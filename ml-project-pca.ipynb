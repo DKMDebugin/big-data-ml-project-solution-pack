{
 "cells": [
  {
   "cell_type": "markdown",
   "metadata": {
    "colab_type": "text",
    "id": "ZaqVCL2FMZ-7"
   },
   "source": [
    "# ML Project PCA\n",
    "\n",
    "# Name: Jamiu Olashile Salimon\n",
    "\n",
    "# ID: 19063679\n",
    "\n",
    "# Module: CS6502 - Applied Big Data And Visualization"
   ]
  },
  {
   "cell_type": "markdown",
   "metadata": {
    "colab_type": "text",
    "id": "3S6M-FvbNgo3"
   },
   "source": [
    "# Imports"
   ]
  },
  {
   "cell_type": "code",
   "execution_count": 1,
   "metadata": {
    "colab": {},
    "colab_type": "code",
    "id": "QzbZmegvMWNt"
   },
   "outputs": [],
   "source": [
    "import numpy\n",
    "import pandas\n",
    "import matplotlib.pyplot as pyplot\n",
    "import seaborn as sns\n",
    "from sklearn.preprocessing import RobustScaler, StandardScaler\n",
    "\n",
    "# imports necessary for dimensionality reduction\n",
    "from sklearn.decomposition import PCA\n",
    "\n",
    "%matplotlib inline"
   ]
  },
  {
   "cell_type": "code",
   "execution_count": 2,
   "metadata": {
    "colab": {},
    "colab_type": "code",
    "id": "JPknrvVOxORS"
   },
   "outputs": [],
   "source": [
    "# loading the dataset as pandas chicago_taxi_dataset from csv file and duplicate.\n",
    "\n",
    "# Use this on Google Colab after uploading csv file.\n",
    "# chicago_taxi_dataset = pandas.read_csv(\"/content/chicago-taxi-trips-dataset-first-1000-row-order-by.csv\")\n",
    "\n",
    "# Use this on local machine\n",
    "chicago_taxi_dataset = pandas.read_csv(\"./chicago-taxi-trips-dataset-first-1000-row-order-by.csv\")\n",
    "\n",
    "chicago_taxi_dataset_original = chicago_taxi_dataset.copy()"
   ]
  },
  {
   "cell_type": "markdown",
   "metadata": {
    "colab_type": "text",
    "id": "ZZ0iEXArxsO2"
   },
   "source": [
    "# Feature Information\n",
    "## Input\n",
    "- trip_start_time_day_of_week: The day of the week the trip started\n",
    "- trip_start_time_hour: The hour the trip started\n",
    "- trip_end_time_day_of_week: The day of the week the trip ended\n",
    "- trip_end_time_hour: The hour the trip ended\n",
    "- trip_seconds: Time of the trip in seconds.\n",
    "- trip_miles: Distance of the trip in miles.\n",
    "- pickup_census_tract & dropoff_census_tract: The Census Tract where the trip began.\n",
    "- pickup_community_area & dropoff_community_area: The Community Area where the trip began/ended.\n",
    "- tips: The tip for the trip.\n",
    "- tolls: The tolls for the trip.\n",
    "- extras: Extra charges for the trip.\n",
    "- trip_total: Total cost of the trip, the total of the fare, tips, tolls, and extras.\n",
    "- payment_type: Type of payment for the trip.\n",
    "- company: The taxi company.\n",
    "- pickup_latitude, pickup_longitude, dropoff_latitude, and dropoff_longitude: The latitude and longitude of the center of the pickup/dropoff census tract or the community area.\n",
    "- pickup_location & dropoff_location: The location of the center of the pickup & dropoff census tract or the community area if the census tract has been hidden for privacy.\n",
    "\n",
    "## Output\n",
    "- fare: The fare for the trip.\n"
   ]
  },
  {
   "cell_type": "markdown",
   "metadata": {
    "colab_type": "text",
    "id": "xPnQs9-mDP12"
   },
   "source": [
    "# EDA"
   ]
  },
  {
   "cell_type": "code",
   "execution_count": 59,
   "metadata": {
    "colab": {
     "base_uri": "https://localhost:8080/",
     "height": 505
    },
    "colab_type": "code",
    "id": "6kHcwZuS1bNO",
    "outputId": "d69a5b74-dce0-4920-fd44-103dd2d9ef4f"
   },
   "outputs": [
    {
     "name": "stdout",
     "output_type": "stream",
     "text": [
      "<class 'pandas.core.frame.DataFrame'>\n",
      "RangeIndex: 1000 entries, 0 to 999\n",
      "Data columns (total 23 columns):\n",
      " #   Column                       Non-Null Count  Dtype  \n",
      "---  ------                       --------------  -----  \n",
      " 0   trip_start_time_day_of_week  1000 non-null   int64  \n",
      " 1   trip_start_time_hour         1000 non-null   int64  \n",
      " 2   trip_end_time_day_of_week    1000 non-null   int64  \n",
      " 3   trip_end_time_hour           1000 non-null   int64  \n",
      " 4   trip_seconds                 994 non-null    float64\n",
      " 5   trip_miles                   1000 non-null   float64\n",
      " 6   pickup_census_tract          648 non-null    float64\n",
      " 7   dropoff_census_tract         592 non-null    float64\n",
      " 8   pickup_community_area        927 non-null    float64\n",
      " 9   dropoff_community_area       854 non-null    float64\n",
      " 10  fare                         1000 non-null   float64\n",
      " 11  tips                         1000 non-null   float64\n",
      " 12  tolls                        1000 non-null   float64\n",
      " 13  extras                       1000 non-null   float64\n",
      " 14  trip_total                   1000 non-null   float64\n",
      " 15  payment_type                 1000 non-null   object \n",
      " 16  company                      365 non-null    object \n",
      " 17  pickup_latitude              927 non-null    float64\n",
      " 18  pickup_longitude             927 non-null    float64\n",
      " 19  pickup_location              927 non-null    object \n",
      " 20  dropoff_latitude             854 non-null    float64\n",
      " 21  dropoff_longitude            854 non-null    float64\n",
      " 22  dropoff_location             854 non-null    object \n",
      "dtypes: float64(15), int64(4), object(4)\n",
      "memory usage: 179.8+ KB\n"
     ]
    }
   ],
   "source": [
    "# displaying data details & checking for nan/null/inf values\n",
    "chicago_taxi_dataset.info()"
   ]
  },
  {
   "cell_type": "code",
   "execution_count": 60,
   "metadata": {
    "colab": {
     "base_uri": "https://localhost:8080/",
     "height": 308
    },
    "colab_type": "code",
    "id": "UmMLLsWg3RtO",
    "outputId": "c1641a12-38ef-4a88-fcb6-9ed05f60aba4"
   },
   "outputs": [
    {
     "data": {
      "text/html": [
       "<div>\n",
       "<style scoped>\n",
       "    .dataframe tbody tr th:only-of-type {\n",
       "        vertical-align: middle;\n",
       "    }\n",
       "\n",
       "    .dataframe tbody tr th {\n",
       "        vertical-align: top;\n",
       "    }\n",
       "\n",
       "    .dataframe thead th {\n",
       "        text-align: right;\n",
       "    }\n",
       "</style>\n",
       "<table border=\"1\" class=\"dataframe\">\n",
       "  <thead>\n",
       "    <tr style=\"text-align: right;\">\n",
       "      <th></th>\n",
       "      <th>trip_start_time_day_of_week</th>\n",
       "      <th>trip_start_time_hour</th>\n",
       "      <th>trip_end_time_day_of_week</th>\n",
       "      <th>trip_end_time_hour</th>\n",
       "      <th>trip_seconds</th>\n",
       "      <th>trip_miles</th>\n",
       "      <th>pickup_census_tract</th>\n",
       "      <th>dropoff_census_tract</th>\n",
       "      <th>pickup_community_area</th>\n",
       "      <th>dropoff_community_area</th>\n",
       "      <th>fare</th>\n",
       "      <th>tips</th>\n",
       "      <th>tolls</th>\n",
       "      <th>extras</th>\n",
       "      <th>trip_total</th>\n",
       "      <th>payment_type</th>\n",
       "      <th>company</th>\n",
       "      <th>pickup_latitude</th>\n",
       "      <th>pickup_longitude</th>\n",
       "      <th>pickup_location</th>\n",
       "      <th>dropoff_latitude</th>\n",
       "      <th>dropoff_longitude</th>\n",
       "      <th>dropoff_location</th>\n",
       "    </tr>\n",
       "  </thead>\n",
       "  <tbody>\n",
       "    <tr>\n",
       "      <th>0</th>\n",
       "      <td>3</td>\n",
       "      <td>0</td>\n",
       "      <td>3</td>\n",
       "      <td>0</td>\n",
       "      <td>660.0</td>\n",
       "      <td>2.26</td>\n",
       "      <td>NaN</td>\n",
       "      <td>NaN</td>\n",
       "      <td>NaN</td>\n",
       "      <td>NaN</td>\n",
       "      <td>8.65</td>\n",
       "      <td>0.0</td>\n",
       "      <td>0.0</td>\n",
       "      <td>0.0</td>\n",
       "      <td>8.65</td>\n",
       "      <td>Cash</td>\n",
       "      <td>NaN</td>\n",
       "      <td>NaN</td>\n",
       "      <td>NaN</td>\n",
       "      <td>NaN</td>\n",
       "      <td>NaN</td>\n",
       "      <td>NaN</td>\n",
       "      <td>NaN</td>\n",
       "    </tr>\n",
       "    <tr>\n",
       "      <th>1</th>\n",
       "      <td>3</td>\n",
       "      <td>0</td>\n",
       "      <td>3</td>\n",
       "      <td>0</td>\n",
       "      <td>480.0</td>\n",
       "      <td>0.10</td>\n",
       "      <td>1.703108e+10</td>\n",
       "      <td>1.703128e+10</td>\n",
       "      <td>8.0</td>\n",
       "      <td>28.0</td>\n",
       "      <td>8.05</td>\n",
       "      <td>0.0</td>\n",
       "      <td>0.0</td>\n",
       "      <td>2.5</td>\n",
       "      <td>10.55</td>\n",
       "      <td>Cash</td>\n",
       "      <td>Taxi Affiliation Services</td>\n",
       "      <td>41.891972</td>\n",
       "      <td>-87.612945</td>\n",
       "      <td>POINT (-87.6129454143 41.8919715078)</td>\n",
       "      <td>41.879255</td>\n",
       "      <td>-87.642649</td>\n",
       "      <td>POINT (-87.642648998 41.8792550844)</td>\n",
       "    </tr>\n",
       "    <tr>\n",
       "      <th>2</th>\n",
       "      <td>3</td>\n",
       "      <td>0</td>\n",
       "      <td>3</td>\n",
       "      <td>0</td>\n",
       "      <td>660.0</td>\n",
       "      <td>6.95</td>\n",
       "      <td>NaN</td>\n",
       "      <td>NaN</td>\n",
       "      <td>NaN</td>\n",
       "      <td>NaN</td>\n",
       "      <td>16.25</td>\n",
       "      <td>0.0</td>\n",
       "      <td>0.0</td>\n",
       "      <td>0.0</td>\n",
       "      <td>16.25</td>\n",
       "      <td>Cash</td>\n",
       "      <td>NaN</td>\n",
       "      <td>NaN</td>\n",
       "      <td>NaN</td>\n",
       "      <td>NaN</td>\n",
       "      <td>NaN</td>\n",
       "      <td>NaN</td>\n",
       "      <td>NaN</td>\n",
       "    </tr>\n",
       "    <tr>\n",
       "      <th>3</th>\n",
       "      <td>3</td>\n",
       "      <td>0</td>\n",
       "      <td>3</td>\n",
       "      <td>0</td>\n",
       "      <td>1380.0</td>\n",
       "      <td>10.30</td>\n",
       "      <td>1.703184e+10</td>\n",
       "      <td>1.703103e+10</td>\n",
       "      <td>32.0</td>\n",
       "      <td>77.0</td>\n",
       "      <td>22.85</td>\n",
       "      <td>0.0</td>\n",
       "      <td>0.0</td>\n",
       "      <td>0.0</td>\n",
       "      <td>22.85</td>\n",
       "      <td>Cash</td>\n",
       "      <td>NaN</td>\n",
       "      <td>41.880994</td>\n",
       "      <td>-87.632746</td>\n",
       "      <td>POINT (-87.6327464887 41.8809944707)</td>\n",
       "      <td>41.986953</td>\n",
       "      <td>-87.672081</td>\n",
       "      <td>POINT (-87.6720809941 41.9869530579)</td>\n",
       "    </tr>\n",
       "    <tr>\n",
       "      <th>4</th>\n",
       "      <td>3</td>\n",
       "      <td>0</td>\n",
       "      <td>3</td>\n",
       "      <td>0</td>\n",
       "      <td>360.0</td>\n",
       "      <td>0.00</td>\n",
       "      <td>1.703183e+10</td>\n",
       "      <td>1.703128e+10</td>\n",
       "      <td>28.0</td>\n",
       "      <td>28.0</td>\n",
       "      <td>6.45</td>\n",
       "      <td>0.0</td>\n",
       "      <td>0.0</td>\n",
       "      <td>1.5</td>\n",
       "      <td>7.95</td>\n",
       "      <td>No Charge</td>\n",
       "      <td>Dispatch Taxi Affiliation</td>\n",
       "      <td>41.885281</td>\n",
       "      <td>-87.657233</td>\n",
       "      <td>POINT (-87.6572331997 41.8852813201)</td>\n",
       "      <td>41.879255</td>\n",
       "      <td>-87.642649</td>\n",
       "      <td>POINT (-87.642648998 41.8792550844)</td>\n",
       "    </tr>\n",
       "  </tbody>\n",
       "</table>\n",
       "</div>"
      ],
      "text/plain": [
       "   trip_start_time_day_of_week  ...                      dropoff_location\n",
       "0                            3  ...                                   NaN\n",
       "1                            3  ...   POINT (-87.642648998 41.8792550844)\n",
       "2                            3  ...                                   NaN\n",
       "3                            3  ...  POINT (-87.6720809941 41.9869530579)\n",
       "4                            3  ...   POINT (-87.642648998 41.8792550844)\n",
       "\n",
       "[5 rows x 23 columns]"
      ]
     },
     "execution_count": 60,
     "metadata": {
      "tags": []
     },
     "output_type": "execute_result"
    }
   ],
   "source": [
    "chicago_taxi_dataset.head()"
   ]
  },
  {
   "cell_type": "code",
   "execution_count": 61,
   "metadata": {
    "colab": {
     "base_uri": "https://localhost:8080/",
     "height": 373
    },
    "colab_type": "code",
    "id": "eNGis5BL3YPA",
    "outputId": "4418ae48-a92d-40f1-c243-57c7398efe3a"
   },
   "outputs": [
    {
     "data": {
      "text/html": [
       "<div>\n",
       "<style scoped>\n",
       "    .dataframe tbody tr th:only-of-type {\n",
       "        vertical-align: middle;\n",
       "    }\n",
       "\n",
       "    .dataframe tbody tr th {\n",
       "        vertical-align: top;\n",
       "    }\n",
       "\n",
       "    .dataframe thead th {\n",
       "        text-align: right;\n",
       "    }\n",
       "</style>\n",
       "<table border=\"1\" class=\"dataframe\">\n",
       "  <thead>\n",
       "    <tr style=\"text-align: right;\">\n",
       "      <th></th>\n",
       "      <th>trip_start_time_day_of_week</th>\n",
       "      <th>trip_start_time_hour</th>\n",
       "      <th>trip_end_time_day_of_week</th>\n",
       "      <th>trip_end_time_hour</th>\n",
       "      <th>trip_seconds</th>\n",
       "      <th>trip_miles</th>\n",
       "      <th>pickup_census_tract</th>\n",
       "      <th>dropoff_census_tract</th>\n",
       "      <th>pickup_community_area</th>\n",
       "      <th>dropoff_community_area</th>\n",
       "      <th>fare</th>\n",
       "      <th>tips</th>\n",
       "      <th>tolls</th>\n",
       "      <th>extras</th>\n",
       "      <th>trip_total</th>\n",
       "      <th>payment_type</th>\n",
       "      <th>company</th>\n",
       "      <th>pickup_latitude</th>\n",
       "      <th>pickup_longitude</th>\n",
       "      <th>pickup_location</th>\n",
       "      <th>dropoff_latitude</th>\n",
       "      <th>dropoff_longitude</th>\n",
       "      <th>dropoff_location</th>\n",
       "    </tr>\n",
       "  </thead>\n",
       "  <tbody>\n",
       "    <tr>\n",
       "      <th>995</th>\n",
       "      <td>3</td>\n",
       "      <td>0</td>\n",
       "      <td>3</td>\n",
       "      <td>0</td>\n",
       "      <td>120.0</td>\n",
       "      <td>0.90</td>\n",
       "      <td>1.703107e+10</td>\n",
       "      <td>1.703107e+10</td>\n",
       "      <td>7.0</td>\n",
       "      <td>7.0</td>\n",
       "      <td>4.84</td>\n",
       "      <td>0.0</td>\n",
       "      <td>0.0</td>\n",
       "      <td>3.0</td>\n",
       "      <td>7.84</td>\n",
       "      <td>Cash</td>\n",
       "      <td>NaN</td>\n",
       "      <td>41.929047</td>\n",
       "      <td>-87.651311</td>\n",
       "      <td>POINT (-87.6513108767 41.9290469366)</td>\n",
       "      <td>41.921778</td>\n",
       "      <td>-87.651062</td>\n",
       "      <td>POINT (-87.6510618838 41.9217781876)</td>\n",
       "    </tr>\n",
       "    <tr>\n",
       "      <th>996</th>\n",
       "      <td>3</td>\n",
       "      <td>0</td>\n",
       "      <td>3</td>\n",
       "      <td>0</td>\n",
       "      <td>1140.0</td>\n",
       "      <td>5.30</td>\n",
       "      <td>1.703184e+10</td>\n",
       "      <td>1.703106e+10</td>\n",
       "      <td>32.0</td>\n",
       "      <td>6.0</td>\n",
       "      <td>16.05</td>\n",
       "      <td>0.0</td>\n",
       "      <td>0.0</td>\n",
       "      <td>0.0</td>\n",
       "      <td>16.05</td>\n",
       "      <td>Cash</td>\n",
       "      <td>NaN</td>\n",
       "      <td>41.880994</td>\n",
       "      <td>-87.632746</td>\n",
       "      <td>POINT (-87.6327464887 41.8809944707)</td>\n",
       "      <td>41.938391</td>\n",
       "      <td>-87.638575</td>\n",
       "      <td>POINT (-87.6385749205 41.938391257700005)</td>\n",
       "    </tr>\n",
       "    <tr>\n",
       "      <th>997</th>\n",
       "      <td>3</td>\n",
       "      <td>0</td>\n",
       "      <td>3</td>\n",
       "      <td>0</td>\n",
       "      <td>240.0</td>\n",
       "      <td>1.07</td>\n",
       "      <td>1.703132e+10</td>\n",
       "      <td>NaN</td>\n",
       "      <td>32.0</td>\n",
       "      <td>NaN</td>\n",
       "      <td>5.65</td>\n",
       "      <td>0.0</td>\n",
       "      <td>0.0</td>\n",
       "      <td>1.0</td>\n",
       "      <td>6.65</td>\n",
       "      <td>Cash</td>\n",
       "      <td>NaN</td>\n",
       "      <td>41.870607</td>\n",
       "      <td>-87.622173</td>\n",
       "      <td>POINT (-87.6221729369 41.8706073724)</td>\n",
       "      <td>NaN</td>\n",
       "      <td>NaN</td>\n",
       "      <td>NaN</td>\n",
       "    </tr>\n",
       "    <tr>\n",
       "      <th>998</th>\n",
       "      <td>3</td>\n",
       "      <td>0</td>\n",
       "      <td>3</td>\n",
       "      <td>0</td>\n",
       "      <td>420.0</td>\n",
       "      <td>1.20</td>\n",
       "      <td>1.703132e+10</td>\n",
       "      <td>1.703108e+10</td>\n",
       "      <td>32.0</td>\n",
       "      <td>8.0</td>\n",
       "      <td>6.45</td>\n",
       "      <td>0.0</td>\n",
       "      <td>0.0</td>\n",
       "      <td>2.0</td>\n",
       "      <td>8.45</td>\n",
       "      <td>Cash</td>\n",
       "      <td>NaN</td>\n",
       "      <td>41.884987</td>\n",
       "      <td>-87.620993</td>\n",
       "      <td>POINT (-87.6209929134 41.8849871918)</td>\n",
       "      <td>41.895033</td>\n",
       "      <td>-87.619711</td>\n",
       "      <td>POINT (-87.6197106717 41.8950334495)</td>\n",
       "    </tr>\n",
       "    <tr>\n",
       "      <th>999</th>\n",
       "      <td>3</td>\n",
       "      <td>0</td>\n",
       "      <td>3</td>\n",
       "      <td>0</td>\n",
       "      <td>540.0</td>\n",
       "      <td>2.06</td>\n",
       "      <td>1.703107e+10</td>\n",
       "      <td>1.703108e+10</td>\n",
       "      <td>7.0</td>\n",
       "      <td>8.0</td>\n",
       "      <td>7.85</td>\n",
       "      <td>0.0</td>\n",
       "      <td>0.0</td>\n",
       "      <td>1.0</td>\n",
       "      <td>8.85</td>\n",
       "      <td>Cash</td>\n",
       "      <td>NaN</td>\n",
       "      <td>41.929263</td>\n",
       "      <td>-87.635891</td>\n",
       "      <td>POINT (-87.6358909539 41.9292629902)</td>\n",
       "      <td>41.890922</td>\n",
       "      <td>-87.618868</td>\n",
       "      <td>POINT (-87.6188683546 41.8909220259)</td>\n",
       "    </tr>\n",
       "  </tbody>\n",
       "</table>\n",
       "</div>"
      ],
      "text/plain": [
       "     trip_start_time_day_of_week  ...                           dropoff_location\n",
       "995                            3  ...       POINT (-87.6510618838 41.9217781876)\n",
       "996                            3  ...  POINT (-87.6385749205 41.938391257700005)\n",
       "997                            3  ...                                        NaN\n",
       "998                            3  ...       POINT (-87.6197106717 41.8950334495)\n",
       "999                            3  ...       POINT (-87.6188683546 41.8909220259)\n",
       "\n",
       "[5 rows x 23 columns]"
      ]
     },
     "execution_count": 61,
     "metadata": {
      "tags": []
     },
     "output_type": "execute_result"
    }
   ],
   "source": [
    "chicago_taxi_dataset.tail()"
   ]
  },
  {
   "cell_type": "code",
   "execution_count": 62,
   "metadata": {
    "colab": {
     "base_uri": "https://localhost:8080/",
     "height": 297
    },
    "colab_type": "code",
    "id": "fdiecsP43f04",
    "outputId": "7f0826e1-a5fc-46ee-ba6c-8d2d1b484876"
   },
   "outputs": [
    {
     "data": {
      "text/html": [
       "<div>\n",
       "<style scoped>\n",
       "    .dataframe tbody tr th:only-of-type {\n",
       "        vertical-align: middle;\n",
       "    }\n",
       "\n",
       "    .dataframe tbody tr th {\n",
       "        vertical-align: top;\n",
       "    }\n",
       "\n",
       "    .dataframe thead th {\n",
       "        text-align: right;\n",
       "    }\n",
       "</style>\n",
       "<table border=\"1\" class=\"dataframe\">\n",
       "  <thead>\n",
       "    <tr style=\"text-align: right;\">\n",
       "      <th></th>\n",
       "      <th>trip_start_time_day_of_week</th>\n",
       "      <th>trip_start_time_hour</th>\n",
       "      <th>trip_end_time_day_of_week</th>\n",
       "      <th>trip_end_time_hour</th>\n",
       "      <th>trip_seconds</th>\n",
       "      <th>trip_miles</th>\n",
       "      <th>pickup_census_tract</th>\n",
       "      <th>dropoff_census_tract</th>\n",
       "      <th>pickup_community_area</th>\n",
       "      <th>dropoff_community_area</th>\n",
       "      <th>fare</th>\n",
       "      <th>tips</th>\n",
       "      <th>tolls</th>\n",
       "      <th>extras</th>\n",
       "      <th>trip_total</th>\n",
       "      <th>pickup_latitude</th>\n",
       "      <th>pickup_longitude</th>\n",
       "      <th>dropoff_latitude</th>\n",
       "      <th>dropoff_longitude</th>\n",
       "    </tr>\n",
       "  </thead>\n",
       "  <tbody>\n",
       "    <tr>\n",
       "      <th>count</th>\n",
       "      <td>1000.0</td>\n",
       "      <td>1000.0</td>\n",
       "      <td>1000.0</td>\n",
       "      <td>1000.000000</td>\n",
       "      <td>994.000000</td>\n",
       "      <td>1000.000000</td>\n",
       "      <td>6.480000e+02</td>\n",
       "      <td>5.920000e+02</td>\n",
       "      <td>927.000000</td>\n",
       "      <td>854.000000</td>\n",
       "      <td>1000.000000</td>\n",
       "      <td>1000.000000</td>\n",
       "      <td>1000.000000</td>\n",
       "      <td>1000.000000</td>\n",
       "      <td>1000.000000</td>\n",
       "      <td>927.000000</td>\n",
       "      <td>927.000000</td>\n",
       "      <td>854.000000</td>\n",
       "      <td>854.000000</td>\n",
       "    </tr>\n",
       "    <tr>\n",
       "      <th>mean</th>\n",
       "      <td>3.0</td>\n",
       "      <td>0.0</td>\n",
       "      <td>3.0</td>\n",
       "      <td>0.007000</td>\n",
       "      <td>569.577465</td>\n",
       "      <td>2.706130</td>\n",
       "      <td>1.703122e+10</td>\n",
       "      <td>1.703123e+10</td>\n",
       "      <td>14.450917</td>\n",
       "      <td>16.522248</td>\n",
       "      <td>18.461490</td>\n",
       "      <td>0.446350</td>\n",
       "      <td>0.050000</td>\n",
       "      <td>1.100000</td>\n",
       "      <td>20.057840</td>\n",
       "      <td>41.912566</td>\n",
       "      <td>-87.649121</td>\n",
       "      <td>41.913567</td>\n",
       "      <td>-87.650406</td>\n",
       "    </tr>\n",
       "    <tr>\n",
       "      <th>std</th>\n",
       "      <td>0.0</td>\n",
       "      <td>0.0</td>\n",
       "      <td>0.0</td>\n",
       "      <td>0.094657</td>\n",
       "      <td>499.971422</td>\n",
       "      <td>6.511342</td>\n",
       "      <td>2.662770e+05</td>\n",
       "      <td>2.660685e+05</td>\n",
       "      <td>13.379230</td>\n",
       "      <td>15.670743</td>\n",
       "      <td>284.441533</td>\n",
       "      <td>2.244037</td>\n",
       "      <td>1.581139</td>\n",
       "      <td>3.885885</td>\n",
       "      <td>286.111737</td>\n",
       "      <td>0.030965</td>\n",
       "      <td>0.031833</td>\n",
       "      <td>0.035326</td>\n",
       "      <td>0.029825</td>\n",
       "    </tr>\n",
       "    <tr>\n",
       "      <th>min</th>\n",
       "      <td>3.0</td>\n",
       "      <td>0.0</td>\n",
       "      <td>3.0</td>\n",
       "      <td>0.000000</td>\n",
       "      <td>0.000000</td>\n",
       "      <td>0.000000</td>\n",
       "      <td>1.703103e+10</td>\n",
       "      <td>1.703103e+10</td>\n",
       "      <td>1.000000</td>\n",
       "      <td>1.000000</td>\n",
       "      <td>0.000000</td>\n",
       "      <td>0.000000</td>\n",
       "      <td>0.000000</td>\n",
       "      <td>0.000000</td>\n",
       "      <td>0.000000</td>\n",
       "      <td>41.778877</td>\n",
       "      <td>-87.913625</td>\n",
       "      <td>41.741243</td>\n",
       "      <td>-87.913625</td>\n",
       "    </tr>\n",
       "    <tr>\n",
       "      <th>25%</th>\n",
       "      <td>3.0</td>\n",
       "      <td>0.0</td>\n",
       "      <td>3.0</td>\n",
       "      <td>0.000000</td>\n",
       "      <td>300.000000</td>\n",
       "      <td>0.000000</td>\n",
       "      <td>1.703107e+10</td>\n",
       "      <td>1.703107e+10</td>\n",
       "      <td>7.000000</td>\n",
       "      <td>7.000000</td>\n",
       "      <td>5.450000</td>\n",
       "      <td>0.000000</td>\n",
       "      <td>0.000000</td>\n",
       "      <td>0.000000</td>\n",
       "      <td>6.650000</td>\n",
       "      <td>41.892042</td>\n",
       "      <td>-87.657233</td>\n",
       "      <td>41.892042</td>\n",
       "      <td>-87.663518</td>\n",
       "    </tr>\n",
       "    <tr>\n",
       "      <th>50%</th>\n",
       "      <td>3.0</td>\n",
       "      <td>0.0</td>\n",
       "      <td>3.0</td>\n",
       "      <td>0.000000</td>\n",
       "      <td>480.000000</td>\n",
       "      <td>1.140000</td>\n",
       "      <td>1.703108e+10</td>\n",
       "      <td>1.703108e+10</td>\n",
       "      <td>8.000000</td>\n",
       "      <td>8.000000</td>\n",
       "      <td>7.650000</td>\n",
       "      <td>0.000000</td>\n",
       "      <td>0.000000</td>\n",
       "      <td>1.000000</td>\n",
       "      <td>9.050000</td>\n",
       "      <td>41.901207</td>\n",
       "      <td>-87.642649</td>\n",
       "      <td>41.901567</td>\n",
       "      <td>-87.646512</td>\n",
       "    </tr>\n",
       "    <tr>\n",
       "      <th>75%</th>\n",
       "      <td>3.0</td>\n",
       "      <td>0.0</td>\n",
       "      <td>3.0</td>\n",
       "      <td>0.000000</td>\n",
       "      <td>720.000000</td>\n",
       "      <td>3.000000</td>\n",
       "      <td>1.703128e+10</td>\n",
       "      <td>1.703132e+10</td>\n",
       "      <td>24.000000</td>\n",
       "      <td>24.000000</td>\n",
       "      <td>11.050000</td>\n",
       "      <td>0.000000</td>\n",
       "      <td>0.000000</td>\n",
       "      <td>1.500000</td>\n",
       "      <td>12.650000</td>\n",
       "      <td>41.936237</td>\n",
       "      <td>-87.631717</td>\n",
       "      <td>41.942322</td>\n",
       "      <td>-87.631864</td>\n",
       "    </tr>\n",
       "    <tr>\n",
       "      <th>max</th>\n",
       "      <td>3.0</td>\n",
       "      <td>0.0</td>\n",
       "      <td>3.0</td>\n",
       "      <td>2.000000</td>\n",
       "      <td>6600.000000</td>\n",
       "      <td>90.000000</td>\n",
       "      <td>1.703198e+10</td>\n",
       "      <td>1.703184e+10</td>\n",
       "      <td>77.000000</td>\n",
       "      <td>77.000000</td>\n",
       "      <td>9000.560000</td>\n",
       "      <td>63.560000</td>\n",
       "      <td>50.000000</td>\n",
       "      <td>90.000000</td>\n",
       "      <td>9050.560000</td>\n",
       "      <td>42.009623</td>\n",
       "      <td>-87.592311</td>\n",
       "      <td>42.009623</td>\n",
       "      <td>-87.551428</td>\n",
       "    </tr>\n",
       "  </tbody>\n",
       "</table>\n",
       "</div>"
      ],
      "text/plain": [
       "       trip_start_time_day_of_week  ...  dropoff_longitude\n",
       "count                       1000.0  ...         854.000000\n",
       "mean                           3.0  ...         -87.650406\n",
       "std                            0.0  ...           0.029825\n",
       "min                            3.0  ...         -87.913625\n",
       "25%                            3.0  ...         -87.663518\n",
       "50%                            3.0  ...         -87.646512\n",
       "75%                            3.0  ...         -87.631864\n",
       "max                            3.0  ...         -87.551428\n",
       "\n",
       "[8 rows x 19 columns]"
      ]
     },
     "execution_count": 62,
     "metadata": {
      "tags": []
     },
     "output_type": "execute_result"
    }
   ],
   "source": [
    "# displaying data stats for numerical features\n",
    "chicago_taxi_dataset.describe()"
   ]
  },
  {
   "cell_type": "code",
   "execution_count": 63,
   "metadata": {
    "colab": {
     "base_uri": "https://localhost:8080/",
     "height": 342
    },
    "colab_type": "code",
    "id": "9gZXbMgR24nU",
    "outputId": "5e25be73-2028-4577-fed3-e5b573cdf0b2"
   },
   "outputs": [
    {
     "data": {
      "text/plain": [
       "trip_start_time_day_of_week    0.000000e+00\n",
       "trip_start_time_hour           0.000000e+00\n",
       "trip_end_time_day_of_week      0.000000e+00\n",
       "trip_end_time_hour             8.959960e-03\n",
       "trip_seconds                   2.499714e+05\n",
       "trip_miles                     4.239758e+01\n",
       "pickup_census_tract            7.090345e+10\n",
       "dropoff_census_tract           7.079247e+10\n",
       "pickup_community_area          1.790038e+02\n",
       "dropoff_community_area         2.455722e+02\n",
       "fare                           8.090699e+04\n",
       "tips                           5.035703e+00\n",
       "tolls                          2.500000e+00\n",
       "extras                         1.510010e+01\n",
       "trip_total                     8.185993e+04\n",
       "pickup_latitude                9.588334e-04\n",
       "pickup_longitude               1.013319e-03\n",
       "dropoff_latitude               1.247908e-03\n",
       "dropoff_longitude              8.895545e-04\n",
       "dtype: float64"
      ]
     },
     "execution_count": 63,
     "metadata": {
      "tags": []
     },
     "output_type": "execute_result"
    }
   ],
   "source": [
    "# calc variance for each numerical variable\n",
    "chicago_taxi_dataset.var()"
   ]
  },
  {
   "cell_type": "markdown",
   "metadata": {
    "colab_type": "text",
    "id": "AjS9ZEC53IZN"
   },
   "source": [
    "Below are the inferences gotten from the stats above;\n",
    "\n",
    "- Rows with missing values include; `trip_seconds`: 6, `pickup_census_tract`: 352, `dropoff_census_tract`: 408, `pickup_community_area`: 73, `dropoff_community_area`: 145, `company`: 635, `pickup_latitude`: 73, `pickup_longitude`: 73, `pickup_location`: 73, `dropoff_latitude`: 146, `dropoff_longitude`: 146 and `dropoff_location`: 146.\n",
    "- `payment_type`, `company`, `pickup_location`, and `dropoff_location` are categorical features.\n",
    "- Noted distribution are as follows;\n",
    "    - Normal distribution: `trip_start_time_day_of_week`, `trip_end_time_day_of_week`, `pickup_census_tract`\n",
    "    - Left skewed: `trip_end_time_day_of_week`,`trip_end_time_hour`, `extras`, `pickup_latitude`, `dropoff_latitude`\n",
    "    - Right skewed: `trip_seconds`, `trip_miles`, `dropoff_census_tract`, `pickup_community_area`, `fare`, `tips`, `tolls`, `trip_total`, `pickup_longitude`, `dropoff_longitude`\n",
    "\n"
   ]
  },
  {
   "cell_type": "code",
   "execution_count": 0,
   "metadata": {
    "colab": {},
    "colab_type": "code",
    "id": "ObHTaD5V-Rh4"
   },
   "outputs": [],
   "source": [
    "# dropping rows with more than 30% non-null values and rows with non string or number.\n",
    "labels_wf_missing_values = ['pickup_census_tract', 'dropoff_census_tract', 'company', 'pickup_location', 'dropoff_location']\n",
    "chicago_taxi_dataset = chicago_taxi_dataset.drop(labels_wf_missing_values, axis=1)"
   ]
  },
  {
   "cell_type": "markdown",
   "metadata": {
    "colab_type": "text",
    "id": "Sn2GfkU5Kygy"
   },
   "source": [
    "## Numerical Features"
   ]
  },
  {
   "cell_type": "markdown",
   "metadata": {
    "colab_type": "text",
    "id": "YHQGg1-s9w_c"
   },
   "source": [
    "### Check for distribution"
   ]
  },
  {
   "cell_type": "code",
   "execution_count": 65,
   "metadata": {
    "colab": {
     "base_uri": "https://localhost:8080/",
     "height": 532
    },
    "colab_type": "code",
    "id": "YgmPC3m5JmLE",
    "outputId": "a4bcca16-8804-4132-c829-01ea2e1a28f3"
   },
   "outputs": [
    {
     "data": {
      "image/png": "[encoded data removed]",
      "text/plain": [
       "<Figure size 1440x576 with 1 Axes>"
      ]
     },
     "metadata": {
      "needs_background": "light",
      "tags": []
     },
     "output_type": "display_data"
    }
   ],
   "source": [
    "# Plot boxplot for numerical features\n",
    "column = ['trip_start_time_day_of_week', 'trip_start_time_hour', \n",
    "          'trip_end_time_day_of_week', 'trip_end_time_hour', 'trip_seconds']\n",
    "chicago_taxi_dataset.boxplot(column=column, figsize=(20,8), rot=20)\n",
    "pyplot.show()"
   ]
  },
  {
   "cell_type": "code",
   "execution_count": 66,
   "metadata": {
    "colab": {
     "base_uri": "https://localhost:8080/",
     "height": 525
    },
    "colab_type": "code",
    "id": "TVT3a7NL2jC8",
    "outputId": "b42ebdbe-1547-4757-d150-7afcf680979f"
   },
   "outputs": [
    {
     "data": {
      "image/png": "[encoded data removed]",
      "text/plain": [
       "<Figure size 1440x576 with 1 Axes>"
      ]
     },
     "metadata": {
      "needs_background": "light",
      "tags": []
     },
     "output_type": "display_data"
    }
   ],
   "source": [
    "column = ['trip_miles', 'pickup_community_area', 'dropoff_community_area',\n",
    "          'fare', 'tolls',]\n",
    "chicago_taxi_dataset.boxplot(column=column, figsize=(20,8), rot=20)\n",
    "pyplot.show()"
   ]
  },
  {
   "cell_type": "code",
   "execution_count": 67,
   "metadata": {
    "colab": {
     "base_uri": "https://localhost:8080/",
     "height": 508
    },
    "colab_type": "code",
    "id": "VH6s75ww22BP",
    "outputId": "2fcc6d67-4636-4aff-e5bd-0ffe2dadc914"
   },
   "outputs": [
    {
     "data": {
      "image/png": "[encoded data removed]",
      "text/plain": [
       "<Figure size 1440x576 with 1 Axes>"
      ]
     },
     "metadata": {
      "needs_background": "light",
      "tags": []
     },
     "output_type": "display_data"
    }
   ],
   "source": [
    "column = [ 'extras', 'trip_total', 'pickup_latitude']\n",
    "chicago_taxi_dataset.boxplot(column=column, figsize=(20,8), rot=20)\n",
    "pyplot.show()"
   ]
  },
  {
   "cell_type": "code",
   "execution_count": 68,
   "metadata": {
    "colab": {
     "base_uri": "https://localhost:8080/",
     "height": 512
    },
    "colab_type": "code",
    "id": "8Tc0USVq3H9S",
    "outputId": "362b5471-e55e-4272-fcee-5f7d6bfb858c"
   },
   "outputs": [
    {
     "data": {
      "image/png": "[encoded data removed]",
      "text/plain": [
       "<Figure size 1440x576 with 1 Axes>"
      ]
     },
     "metadata": {
      "needs_background": "light",
      "tags": []
     },
     "output_type": "display_data"
    }
   ],
   "source": [
    "column = ['pickup_longitude', 'dropoff_latitude', 'dropoff_longitude']\n",
    "chicago_taxi_dataset.boxplot(column=column, figsize=(20,8), rot=20)\n",
    "pyplot.show()"
   ]
  },
  {
   "cell_type": "markdown",
   "metadata": {
    "colab_type": "text",
    "id": "Gta3Y7Um_6So"
   },
   "source": [
    "- `trip_seconds` contains alot of outliers"
   ]
  },
  {
   "cell_type": "code",
   "execution_count": 69,
   "metadata": {
    "colab": {
     "base_uri": "https://localhost:8080/",
     "height": 312
    },
    "colab_type": "code",
    "id": "fosIdRmPQBvf",
    "outputId": "7a522cee-faca-40c0-814f-217c8ba9b562"
   },
   "outputs": [
    {
     "data": {
      "text/plain": [
       "<matplotlib.axes._subplots.AxesSubplot at 0x7f11672d76d8>"
      ]
     },
     "execution_count": 69,
     "metadata": {
      "tags": []
     },
     "output_type": "execute_result"
    },
    {
     "data": {
      "image/png": "[encoded data removed]",
      "text/plain": [
       "<Figure size 1152x288 with 1 Axes>"
      ]
     },
     "metadata": {
      "needs_background": "light",
      "tags": []
     },
     "output_type": "display_data"
    }
   ],
   "source": [
    "# Visualize distribution of trip_seconds using a barchart\n",
    "fig = pyplot.figure(figsize=(16,4))\n",
    "ax1 = fig.add_subplot(1, 2, 1)\n",
    "ax1.set_title(\"Histogram of trip in seconds\")\n",
    "ax1.set_xlabel('trip_seconds')\n",
    "ax1.set_ylabel('- -')\n",
    "chicago_taxi_dataset['trip_seconds'].hist(bins=20)"
   ]
  },
  {
   "cell_type": "markdown",
   "metadata": {
    "colab_type": "text",
    "id": "eFEvpXoSADl7"
   },
   "source": [
    "- `trip_seconds` is right skewed and the outliers are to the right."
   ]
  },
  {
   "cell_type": "markdown",
   "metadata": {
    "colab_type": "text",
    "id": "iYCaH8VR92RZ"
   },
   "source": [
    "### Check for trends"
   ]
  },
  {
   "cell_type": "code",
   "execution_count": 70,
   "metadata": {
    "colab": {
     "base_uri": "https://localhost:8080/",
     "height": 401
    },
    "colab_type": "code",
    "id": "5BKQzjmi9qsx",
    "outputId": "3187ba4b-dea4-404a-ff4a-cbb01f2b3671"
   },
   "outputs": [
    {
     "data": {
      "image/png": "[encoded data removed]",
      "text/plain": [
       "<Figure size 432x288 with 2 Axes>"
      ]
     },
     "metadata": {
      "needs_background": "light",
      "tags": []
     },
     "output_type": "display_data"
    }
   ],
   "source": [
    "#heatmap of correlation matrix\n",
    "sns.heatmap(chicago_taxi_dataset.corr());\n",
    "# chicago_taxi_dataset.corr()"
   ]
  },
  {
   "cell_type": "markdown",
   "metadata": {
    "colab_type": "text",
    "id": "Ei0nd382Aomn"
   },
   "source": [
    "Correlation between;\n",
    "- `tolls`, `trip_total`, and  `fare`"
   ]
  },
  {
   "cell_type": "markdown",
   "metadata": {
    "colab_type": "text",
    "id": "MbJGoyUuK3YH"
   },
   "source": [
    "## Categorical features"
   ]
  },
  {
   "cell_type": "code",
   "execution_count": 0,
   "metadata": {
    "colab": {},
    "colab_type": "code",
    "id": "bNtXQThI262-"
   },
   "outputs": [],
   "source": [
    "# function to compose frequency table for categorical variables\n",
    "def frequency_table(arr=[]):\n",
    "  for value in arr:\n",
    "    print(chicago_taxi_dataset[value].value_counts(normalize=True))\n",
    "    print('\\n')"
   ]
  },
  {
   "cell_type": "code",
   "execution_count": 73,
   "metadata": {
    "colab": {
     "base_uri": "https://localhost:8080/",
     "height": 147
    },
    "colab_type": "code",
    "id": "2H3m-zGO3PmP",
    "outputId": "eef16a37-38c7-4b63-dec9-1ce287ef0d2e"
   },
   "outputs": [
    {
     "name": "stdout",
     "output_type": "stream",
     "text": [
      "Cash           0.823\n",
      "Credit Card    0.166\n",
      "No Charge      0.008\n",
      "Unknown        0.002\n",
      "Dispute        0.001\n",
      "Name: payment_type, dtype: float64\n",
      "\n",
      "\n"
     ]
    }
   ],
   "source": [
    "cat_lables = ['payment_type']\n",
    "frequency_table(cat_lables)"
   ]
  },
  {
   "cell_type": "markdown",
   "metadata": {
    "colab_type": "text",
    "id": "nstzsXXuLD9U"
   },
   "source": [
    "# Data preparation"
   ]
  },
  {
   "cell_type": "markdown",
   "metadata": {
    "colab_type": "text",
    "id": "pfHw60eg8u2_"
   },
   "source": [
    "## Impute Missing Values"
   ]
  },
  {
   "cell_type": "code",
   "execution_count": 0,
   "metadata": {
    "colab": {},
    "colab_type": "code",
    "id": "eOwXwC3V78T5"
   },
   "outputs": [],
   "source": [
    "def imput_missing_val(data, columns=[]):\n",
    "  for column in columns:\n",
    "    data[column].fillna(\n",
    "      data[column].mean(), inplace=True\n",
    "      )\n",
    "  \n",
    "  return data"
   ]
  },
  {
   "cell_type": "code",
   "execution_count": 0,
   "metadata": {
    "colab": {},
    "colab_type": "code",
    "id": "McyTdwKi81rM"
   },
   "outputs": [],
   "source": [
    "# fill up missing values with the mean \n",
    "columns = ['trip_seconds', 'pickup_community_area', 'dropoff_community_area', \n",
    "           'pickup_latitude', 'pickup_longitude', 'dropoff_latitude',\n",
    "           'dropoff_longitude']\n",
    "chicago_taxi_dataset = imput_missing_val(chicago_taxi_dataset, columns=columns)"
   ]
  },
  {
   "cell_type": "markdown",
   "metadata": {
    "colab_type": "text",
    "id": "YgWdtJreLJd_"
   },
   "source": [
    "## Encode categorical features"
   ]
  },
  {
   "cell_type": "code",
   "execution_count": 84,
   "metadata": {
    "colab": {
     "base_uri": "https://localhost:8080/",
     "height": 427
    },
    "colab_type": "code",
    "id": "uYU3aUwU3kGr",
    "outputId": "246614f0-3163-4b9d-95b5-b0f51aea6c05"
   },
   "outputs": [
    {
     "data": {
      "text/html": [
       "<div>\n",
       "<style scoped>\n",
       "    .dataframe tbody tr th:only-of-type {\n",
       "        vertical-align: middle;\n",
       "    }\n",
       "\n",
       "    .dataframe tbody tr th {\n",
       "        vertical-align: top;\n",
       "    }\n",
       "\n",
       "    .dataframe thead th {\n",
       "        text-align: right;\n",
       "    }\n",
       "</style>\n",
       "<table border=\"1\" class=\"dataframe\">\n",
       "  <thead>\n",
       "    <tr style=\"text-align: right;\">\n",
       "      <th></th>\n",
       "      <th>trip_start_time_day_of_week</th>\n",
       "      <th>trip_start_time_hour</th>\n",
       "      <th>trip_end_time_day_of_week</th>\n",
       "      <th>trip_end_time_hour</th>\n",
       "      <th>trip_seconds</th>\n",
       "      <th>trip_miles</th>\n",
       "      <th>pickup_community_area</th>\n",
       "      <th>dropoff_community_area</th>\n",
       "      <th>fare</th>\n",
       "      <th>tips</th>\n",
       "      <th>tolls</th>\n",
       "      <th>extras</th>\n",
       "      <th>trip_total</th>\n",
       "      <th>pickup_latitude</th>\n",
       "      <th>pickup_longitude</th>\n",
       "      <th>dropoff_latitude</th>\n",
       "      <th>dropoff_longitude</th>\n",
       "      <th>payment_type_Cash</th>\n",
       "      <th>payment_type_Credit Card</th>\n",
       "      <th>payment_type_Dispute</th>\n",
       "      <th>payment_type_No Charge</th>\n",
       "      <th>payment_type_Unknown</th>\n",
       "    </tr>\n",
       "  </thead>\n",
       "  <tbody>\n",
       "    <tr>\n",
       "      <th>0</th>\n",
       "      <td>3</td>\n",
       "      <td>0</td>\n",
       "      <td>3</td>\n",
       "      <td>0</td>\n",
       "      <td>660.0</td>\n",
       "      <td>2.26</td>\n",
       "      <td>14.450917</td>\n",
       "      <td>16.522248</td>\n",
       "      <td>8.65</td>\n",
       "      <td>0.0</td>\n",
       "      <td>0.0</td>\n",
       "      <td>0.0</td>\n",
       "      <td>8.65</td>\n",
       "      <td>41.912566</td>\n",
       "      <td>-87.649121</td>\n",
       "      <td>41.913567</td>\n",
       "      <td>-87.650406</td>\n",
       "      <td>1</td>\n",
       "      <td>0</td>\n",
       "      <td>0</td>\n",
       "      <td>0</td>\n",
       "      <td>0</td>\n",
       "    </tr>\n",
       "    <tr>\n",
       "      <th>1</th>\n",
       "      <td>3</td>\n",
       "      <td>0</td>\n",
       "      <td>3</td>\n",
       "      <td>0</td>\n",
       "      <td>480.0</td>\n",
       "      <td>0.10</td>\n",
       "      <td>8.000000</td>\n",
       "      <td>28.000000</td>\n",
       "      <td>8.05</td>\n",
       "      <td>0.0</td>\n",
       "      <td>0.0</td>\n",
       "      <td>2.5</td>\n",
       "      <td>10.55</td>\n",
       "      <td>41.891972</td>\n",
       "      <td>-87.612945</td>\n",
       "      <td>41.879255</td>\n",
       "      <td>-87.642649</td>\n",
       "      <td>1</td>\n",
       "      <td>0</td>\n",
       "      <td>0</td>\n",
       "      <td>0</td>\n",
       "      <td>0</td>\n",
       "    </tr>\n",
       "    <tr>\n",
       "      <th>2</th>\n",
       "      <td>3</td>\n",
       "      <td>0</td>\n",
       "      <td>3</td>\n",
       "      <td>0</td>\n",
       "      <td>660.0</td>\n",
       "      <td>6.95</td>\n",
       "      <td>14.450917</td>\n",
       "      <td>16.522248</td>\n",
       "      <td>16.25</td>\n",
       "      <td>0.0</td>\n",
       "      <td>0.0</td>\n",
       "      <td>0.0</td>\n",
       "      <td>16.25</td>\n",
       "      <td>41.912566</td>\n",
       "      <td>-87.649121</td>\n",
       "      <td>41.913567</td>\n",
       "      <td>-87.650406</td>\n",
       "      <td>1</td>\n",
       "      <td>0</td>\n",
       "      <td>0</td>\n",
       "      <td>0</td>\n",
       "      <td>0</td>\n",
       "    </tr>\n",
       "    <tr>\n",
       "      <th>3</th>\n",
       "      <td>3</td>\n",
       "      <td>0</td>\n",
       "      <td>3</td>\n",
       "      <td>0</td>\n",
       "      <td>1380.0</td>\n",
       "      <td>10.30</td>\n",
       "      <td>32.000000</td>\n",
       "      <td>77.000000</td>\n",
       "      <td>22.85</td>\n",
       "      <td>0.0</td>\n",
       "      <td>0.0</td>\n",
       "      <td>0.0</td>\n",
       "      <td>22.85</td>\n",
       "      <td>41.880994</td>\n",
       "      <td>-87.632746</td>\n",
       "      <td>41.986953</td>\n",
       "      <td>-87.672081</td>\n",
       "      <td>1</td>\n",
       "      <td>0</td>\n",
       "      <td>0</td>\n",
       "      <td>0</td>\n",
       "      <td>0</td>\n",
       "    </tr>\n",
       "    <tr>\n",
       "      <th>4</th>\n",
       "      <td>3</td>\n",
       "      <td>0</td>\n",
       "      <td>3</td>\n",
       "      <td>0</td>\n",
       "      <td>360.0</td>\n",
       "      <td>0.00</td>\n",
       "      <td>28.000000</td>\n",
       "      <td>28.000000</td>\n",
       "      <td>6.45</td>\n",
       "      <td>0.0</td>\n",
       "      <td>0.0</td>\n",
       "      <td>1.5</td>\n",
       "      <td>7.95</td>\n",
       "      <td>41.885281</td>\n",
       "      <td>-87.657233</td>\n",
       "      <td>41.879255</td>\n",
       "      <td>-87.642649</td>\n",
       "      <td>0</td>\n",
       "      <td>0</td>\n",
       "      <td>0</td>\n",
       "      <td>1</td>\n",
       "      <td>0</td>\n",
       "    </tr>\n",
       "    <tr>\n",
       "      <th>...</th>\n",
       "      <td>...</td>\n",
       "      <td>...</td>\n",
       "      <td>...</td>\n",
       "      <td>...</td>\n",
       "      <td>...</td>\n",
       "      <td>...</td>\n",
       "      <td>...</td>\n",
       "      <td>...</td>\n",
       "      <td>...</td>\n",
       "      <td>...</td>\n",
       "      <td>...</td>\n",
       "      <td>...</td>\n",
       "      <td>...</td>\n",
       "      <td>...</td>\n",
       "      <td>...</td>\n",
       "      <td>...</td>\n",
       "      <td>...</td>\n",
       "      <td>...</td>\n",
       "      <td>...</td>\n",
       "      <td>...</td>\n",
       "      <td>...</td>\n",
       "      <td>...</td>\n",
       "    </tr>\n",
       "    <tr>\n",
       "      <th>995</th>\n",
       "      <td>3</td>\n",
       "      <td>0</td>\n",
       "      <td>3</td>\n",
       "      <td>0</td>\n",
       "      <td>120.0</td>\n",
       "      <td>0.90</td>\n",
       "      <td>7.000000</td>\n",
       "      <td>7.000000</td>\n",
       "      <td>4.84</td>\n",
       "      <td>0.0</td>\n",
       "      <td>0.0</td>\n",
       "      <td>3.0</td>\n",
       "      <td>7.84</td>\n",
       "      <td>41.929047</td>\n",
       "      <td>-87.651311</td>\n",
       "      <td>41.921778</td>\n",
       "      <td>-87.651062</td>\n",
       "      <td>1</td>\n",
       "      <td>0</td>\n",
       "      <td>0</td>\n",
       "      <td>0</td>\n",
       "      <td>0</td>\n",
       "    </tr>\n",
       "    <tr>\n",
       "      <th>996</th>\n",
       "      <td>3</td>\n",
       "      <td>0</td>\n",
       "      <td>3</td>\n",
       "      <td>0</td>\n",
       "      <td>1140.0</td>\n",
       "      <td>5.30</td>\n",
       "      <td>32.000000</td>\n",
       "      <td>6.000000</td>\n",
       "      <td>16.05</td>\n",
       "      <td>0.0</td>\n",
       "      <td>0.0</td>\n",
       "      <td>0.0</td>\n",
       "      <td>16.05</td>\n",
       "      <td>41.880994</td>\n",
       "      <td>-87.632746</td>\n",
       "      <td>41.938391</td>\n",
       "      <td>-87.638575</td>\n",
       "      <td>1</td>\n",
       "      <td>0</td>\n",
       "      <td>0</td>\n",
       "      <td>0</td>\n",
       "      <td>0</td>\n",
       "    </tr>\n",
       "    <tr>\n",
       "      <th>997</th>\n",
       "      <td>3</td>\n",
       "      <td>0</td>\n",
       "      <td>3</td>\n",
       "      <td>0</td>\n",
       "      <td>240.0</td>\n",
       "      <td>1.07</td>\n",
       "      <td>32.000000</td>\n",
       "      <td>16.522248</td>\n",
       "      <td>5.65</td>\n",
       "      <td>0.0</td>\n",
       "      <td>0.0</td>\n",
       "      <td>1.0</td>\n",
       "      <td>6.65</td>\n",
       "      <td>41.870607</td>\n",
       "      <td>-87.622173</td>\n",
       "      <td>41.913567</td>\n",
       "      <td>-87.650406</td>\n",
       "      <td>1</td>\n",
       "      <td>0</td>\n",
       "      <td>0</td>\n",
       "      <td>0</td>\n",
       "      <td>0</td>\n",
       "    </tr>\n",
       "    <tr>\n",
       "      <th>998</th>\n",
       "      <td>3</td>\n",
       "      <td>0</td>\n",
       "      <td>3</td>\n",
       "      <td>0</td>\n",
       "      <td>420.0</td>\n",
       "      <td>1.20</td>\n",
       "      <td>32.000000</td>\n",
       "      <td>8.000000</td>\n",
       "      <td>6.45</td>\n",
       "      <td>0.0</td>\n",
       "      <td>0.0</td>\n",
       "      <td>2.0</td>\n",
       "      <td>8.45</td>\n",
       "      <td>41.884987</td>\n",
       "      <td>-87.620993</td>\n",
       "      <td>41.895033</td>\n",
       "      <td>-87.619711</td>\n",
       "      <td>1</td>\n",
       "      <td>0</td>\n",
       "      <td>0</td>\n",
       "      <td>0</td>\n",
       "      <td>0</td>\n",
       "    </tr>\n",
       "    <tr>\n",
       "      <th>999</th>\n",
       "      <td>3</td>\n",
       "      <td>0</td>\n",
       "      <td>3</td>\n",
       "      <td>0</td>\n",
       "      <td>540.0</td>\n",
       "      <td>2.06</td>\n",
       "      <td>7.000000</td>\n",
       "      <td>8.000000</td>\n",
       "      <td>7.85</td>\n",
       "      <td>0.0</td>\n",
       "      <td>0.0</td>\n",
       "      <td>1.0</td>\n",
       "      <td>8.85</td>\n",
       "      <td>41.929263</td>\n",
       "      <td>-87.635891</td>\n",
       "      <td>41.890922</td>\n",
       "      <td>-87.618868</td>\n",
       "      <td>1</td>\n",
       "      <td>0</td>\n",
       "      <td>0</td>\n",
       "      <td>0</td>\n",
       "      <td>0</td>\n",
       "    </tr>\n",
       "  </tbody>\n",
       "</table>\n",
       "<p>1000 rows × 22 columns</p>\n",
       "</div>"
      ],
      "text/plain": [
       "     trip_start_time_day_of_week  ...  payment_type_Unknown\n",
       "0                              3  ...                     0\n",
       "1                              3  ...                     0\n",
       "2                              3  ...                     0\n",
       "3                              3  ...                     0\n",
       "4                              3  ...                     0\n",
       "..                           ...  ...                   ...\n",
       "995                            3  ...                     0\n",
       "996                            3  ...                     0\n",
       "997                            3  ...                     0\n",
       "998                            3  ...                     0\n",
       "999                            3  ...                     0\n",
       "\n",
       "[1000 rows x 22 columns]"
      ]
     },
     "execution_count": 84,
     "metadata": {
      "tags": []
     },
     "output_type": "execute_result"
    }
   ],
   "source": [
    "# encode categorical features\n",
    "chicago_taxi_dataset = pandas.get_dummies(chicago_taxi_dataset, columns=['payment_type'])\n",
    "chicago_taxi_dataset"
   ]
  },
  {
   "cell_type": "markdown",
   "metadata": {
    "colab_type": "text",
    "id": "wTgTaei4LfGI"
   },
   "source": [
    "## Scale numerical features"
   ]
  },
  {
   "cell_type": "markdown",
   "metadata": {
    "colab_type": "text",
    "id": "4XAQpf7_CgCz"
   },
   "source": [
    "- Feature with outliers; Log and use RobustScaler  for scaling.\n",
    "- Features without outliers; Use Standscaler for scaling."
   ]
  },
  {
   "cell_type": "code",
   "execution_count": 85,
   "metadata": {
    "colab": {
     "base_uri": "https://localhost:8080/",
     "height": 50
    },
    "colab_type": "code",
    "id": "K7NuunwPPu73",
    "outputId": "094b88f9-8d56-4ca9-e505-8fb1de58fc7f"
   },
   "outputs": [
    {
     "data": {
      "text/plain": [
       "trip_seconds    1.0\n",
       "dtype: float64"
      ]
     },
     "execution_count": 85,
     "metadata": {
      "tags": []
     },
     "output_type": "execute_result"
    }
   ],
   "source": [
    "# Get min values in trip_seconds\n",
    "trip_seconds_min = chicago_taxi_dataset[['trip_seconds']].min() + 1\n",
    "trip_seconds_min"
   ]
  },
  {
   "cell_type": "code",
   "execution_count": 0,
   "metadata": {
    "colab": {},
    "colab_type": "code",
    "id": "rfqhHDorLmTS"
   },
   "outputs": [],
   "source": [
    "# Log and scale trip_seconds\n",
    "robust_scaler = RobustScaler()\n",
    "logged_ts = numpy.log(chicago_taxi_dataset[['trip_seconds']] + trip_seconds_min)\n",
    "chicago_taxi_dataset[['trip_seconds']] = robust_scaler.fit_transform(logged_ts)"
   ]
  },
  {
   "cell_type": "code",
   "execution_count": 0,
   "metadata": {
    "colab": {},
    "colab_type": "code",
    "id": "2W-4Ost7NOVH"
   },
   "outputs": [],
   "source": [
    "# Scale other features\n",
    "standard_scaler = StandardScaler()\n",
    "features_to_scaled = ['trip_start_time_day_of_week',\t'trip_start_time_hour',\t'trip_end_time_day_of_week',\n",
    "                     'trip_end_time_hour', 'trip_miles','pickup_community_area', 'tips',\t'extras',\n",
    "                      'trip_total', 'pickup_latitude','pickup_longitude', 'dropoff_latitude', 'dropoff_longitude']\n",
    "chicago_taxi_dataset[features_to_scaled] = standard_scaler.fit_transform(chicago_taxi_dataset[features_to_scaled])"
   ]
  },
  {
   "cell_type": "code",
   "execution_count": 0,
   "metadata": {
    "colab": {},
    "colab_type": "code",
    "id": "726ThCrv6Lh2"
   },
   "outputs": [],
   "source": [
    "# check for null values\n",
    "chicago_taxi_dataset.info()"
   ]
  },
  {
   "cell_type": "code",
   "execution_count": 0,
   "metadata": {
    "colab": {},
    "colab_type": "code",
    "id": "l5qQRXTNEvkg"
   },
   "outputs": [],
   "source": [
    "# Represent dependent variable with y and independent variables with X\n",
    "y = chicago_taxi_dataset['fare']\n",
    "X = chicago_taxi_dataset.drop('fare', axis=1)"
   ]
  },
  {
   "cell_type": "code",
   "execution_count": 0,
   "metadata": {
    "colab": {},
    "colab_type": "code",
    "id": "2Vx8uZA4FDuf"
   },
   "outputs": [],
   "source": [
    "X"
   ]
  },
  {
   "cell_type": "code",
   "execution_count": 0,
   "metadata": {
    "colab": {},
    "colab_type": "code",
    "id": "iahDLUn8FEC3"
   },
   "outputs": [],
   "source": [
    "y"
   ]
  },
  {
   "cell_type": "code",
   "execution_count": 0,
   "metadata": {
    "colab": {},
    "colab_type": "code",
    "id": "FRzbJRbHCIt5"
   },
   "outputs": [],
   "source": [
    "# a copy of list of column names\n",
    "column_names = list(X.columns.values)"
   ]
  },
  {
   "cell_type": "markdown",
   "metadata": {
    "colab_type": "text",
    "id": "zt4ZoUOMDUhJ"
   },
   "source": [
    "# PCA"
   ]
  },
  {
   "cell_type": "code",
   "execution_count": 93,
   "metadata": {
    "colab": {
     "base_uri": "https://localhost:8080/",
     "height": 50
    },
    "colab_type": "code",
    "id": "FXrzSPYS6yhc",
    "outputId": "f2c3d92b-03f4-442e-94db-90a3f4277eb2"
   },
   "outputs": [
    {
     "data": {
      "text/plain": [
       "PCA(copy=True, iterated_power=7, n_components=None, random_state=None,\n",
       "    svd_solver='auto', tol=0.0, whiten=False)"
      ]
     },
     "execution_count": 93,
     "metadata": {
      "tags": []
     },
     "output_type": "execute_result"
    }
   ],
   "source": [
    "# Initialize PCA without n_component given and fit with X\n",
    "pca = PCA(iterated_power=7)\n",
    "pca.fit(X)"
   ]
  },
  {
   "cell_type": "code",
   "execution_count": 94,
   "metadata": {
    "colab": {
     "base_uri": "https://localhost:8080/",
     "height": 33
    },
    "colab_type": "code",
    "id": "Ct1mZMR7ESOt",
    "outputId": "dddc840e-ba7e-4dac-b53c-0bd34793fee7"
   },
   "outputs": [
    {
     "data": {
      "text/plain": [
       "21"
      ]
     },
     "execution_count": 94,
     "metadata": {
      "tags": []
     },
     "output_type": "execute_result"
    }
   ],
   "source": [
    "# number of features\n",
    "pca.n_components_"
   ]
  },
  {
   "cell_type": "code",
   "execution_count": 95,
   "metadata": {
    "colab": {
     "base_uri": "https://localhost:8080/",
     "height": 115
    },
    "colab_type": "code",
    "id": "gLcuQ1rRF2m0",
    "outputId": "92f1caac-e119-4cee-aef9-24cd8eb19a10"
   },
   "outputs": [
    {
     "data": {
      "text/plain": [
       "array([2.09826118e+02, 3.49921178e+00, 2.58779966e+00, 2.19364166e+00,\n",
       "       1.79383840e+00, 1.16414048e+00, 8.23178990e-01, 7.57263084e-01,\n",
       "       6.64654713e-01, 4.79522003e-01, 4.38568375e-01, 2.11717701e-01,\n",
       "       1.54993478e-01, 1.22248448e-02, 2.67677792e-03, 1.17221202e-03,\n",
       "       2.02361914e-04, 6.79706538e-32, 1.65071029e-32, 1.61272429e-33,\n",
       "       0.00000000e+00])"
      ]
     },
     "execution_count": 95,
     "metadata": {
      "tags": []
     },
     "output_type": "execute_result"
    }
   ],
   "source": [
    "# output the amount of variance explained by each of the selected components\n",
    "pca.explained_variance_"
   ]
  },
  {
   "cell_type": "code",
   "execution_count": 96,
   "metadata": {
    "colab": {
     "base_uri": "https://localhost:8080/",
     "height": 115
    },
    "colab_type": "code",
    "id": "MyhUaFkKEPib",
    "outputId": "b1f93615-79d1-4f8a-d6bb-2a27b3cdd64e"
   },
   "outputs": [
    {
     "data": {
      "text/plain": [
       "array([9.34175924e-01, 1.55789919e-02, 1.15212546e-02, 9.76640681e-03,\n",
       "       7.98642542e-03, 5.18292009e-03, 3.66491074e-03, 3.37144369e-03,\n",
       "       2.95913796e-03, 2.13490062e-03, 1.95256921e-03, 9.42597520e-04,\n",
       "       6.90053160e-04, 5.44267595e-05, 1.19173986e-05, 5.21885579e-06,\n",
       "       9.00944218e-07, 3.02615084e-34, 7.34919861e-35, 7.18007946e-36,\n",
       "       0.00000000e+00])"
      ]
     },
     "execution_count": 96,
     "metadata": {
      "tags": []
     },
     "output_type": "execute_result"
    }
   ],
   "source": [
    "# output the percentage of variance explained by each of the selected components. It should sum up approximately 1.\n",
    "pca.explained_variance_ratio_"
   ]
  },
  {
   "cell_type": "code",
   "execution_count": 97,
   "metadata": {
    "colab": {
     "base_uri": "https://localhost:8080/",
     "height": 33
    },
    "colab_type": "code",
    "id": "6u3XH9VF8koO",
    "outputId": "54458dd9-67d9-4063-bad2-21890917fc74"
   },
   "outputs": [
    {
     "data": {
      "text/plain": [
       "21"
      ]
     },
     "execution_count": 97,
     "metadata": {
      "tags": []
     },
     "output_type": "execute_result"
    }
   ],
   "source": [
    "explained_variance_ratio = pca.explained_variance_ratio_\n",
    "len(explained_variance_ratio)"
   ]
  },
  {
   "cell_type": "code",
   "execution_count": 98,
   "metadata": {
    "colab": {
     "base_uri": "https://localhost:8080/",
     "height": 427
    },
    "colab_type": "code",
    "id": "wEqaUGbu7_8i",
    "outputId": "58af1bc3-9683-4f80-91a7-f9851257a6fd"
   },
   "outputs": [
    {
     "data": {
      "image/png": "[encoded data removed]",
      "text/plain": [
       "<Figure size 432x288 with 1 Axes>"
      ]
     },
     "metadata": {
      "needs_background": "light",
      "tags": []
     },
     "output_type": "display_data"
    }
   ],
   "source": [
    "# Plot explained variane ratio with a bar chart\n",
    "pyplot.xticks(range(len(explained_variance_ratio)), column_names)\n",
    "pyplot.xlabel('Names of predictors')\n",
    "pyplot.ylabel('Effect on variance of dataset')\n",
    "pyplot.title('Histogram for the explained variance ratio')\n",
    "pyplot.xticks(rotation=90)\n",
    "pyplot.\n",
    "pyplot.bar(range(len(explained_variance_ratio)), explained_variance_ratio) \n",
    "pyplot.show()"
   ]
  },
  {
   "cell_type": "markdown",
   "metadata": {
    "colab_type": "text",
    "id": "D3N2ucP1FeKu"
   },
   "source": [
    "Features to be used for predictive analysis on Big Query based on their effect on the variance of the dataset include:\n",
    "- `trip_start_time_day_of_week`: 93.4%\n",
    "- `trip_start_time_hour`: 1.55%\n",
    "- `trip_end_time_day_of_week`: 1.15%\n",
    "- `trip_end_time_hour`: 0.97%\n",
    "- `trip_seconds`: 0.79%\n",
    "- `trip_miles`: 0.51%\n",
    "- `pickup_community_area`: 0.36%\n",
    "- `dropoff_community_area`: 0.34%\n",
    "- `tips`: 0.29%\n",
    "- `tolls`: 0.21%\n",
    "- `extras`: 0.19%\n",
    "\n",
    "Additional feature(s);\n",
    "- `trip_total`: It strongly correlates with the target variable even though it only has 0.09% effect on the variance of the dataset.\n",
    "\n",
    "All in all, the features selected have a total of 99.85% effect on the variance of the dataset.\n",
    "\n"
   ]
  }
 ],
 "metadata": {
  "colab": {
   "collapsed_sections": [],
   "name": "19063679-ml-project-pca-v2.ipynb",
   "provenance": []
  },
  "kernelspec": {
   "display_name": "Python 3",
   "language": "python",
   "name": "python3"
  },
  "language_info": {
   "codemirror_mode": {
    "name": "ipython",
    "version": 3
   },
   "file_extension": ".py",
   "mimetype": "text/x-python",
   "name": "python",
   "nbconvert_exporter": "python",
   "pygments_lexer": "ipython3",
   "version": "3.7.0"
  }
 },
 "nbformat": 4,
 "nbformat_minor": 1
}
